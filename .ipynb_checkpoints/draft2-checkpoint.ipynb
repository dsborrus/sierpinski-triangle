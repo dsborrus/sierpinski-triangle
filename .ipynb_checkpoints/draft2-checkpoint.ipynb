{
 "cells": [
  {
   "cell_type": "markdown",
   "id": "c168ee49-1907-4fa5-964d-bffdbd9aa88e",
   "metadata": {
    "tags": []
   },
   "source": [
    "<h1 style=\"text-align:center\">Constructing a Sierpiński Triangle With the Chaos Game</h1>\n",
    "\n",
    "<h4 style=\"text-align:center\"> by Daniel Borrus, Ph.D. </h4>\n",
    "\n",
    "<br>\n",
    "\n",
    "In this demonstration, I will outline an interesting way to iteratively construct a Sierpiński triangle. I actually stumbled upon this method of construction on TikTok, but decided to look into it and try it for myself, using numpy and matplotlib. First, let's introduce the concepts.\n",
    "\n",
    "A Sierpiński triangle is a classic fractal, named after the Polish mathematician Wacław Sierpiński who described it in 1915, but which had actually appeared many centuries earlier, likely in Italy.\n",
    "\n",
    "Visually, it is a triangle subdivided into four tesselated triangles ([Figure 1](#examplefig)). The top, right, and left triangles are subdivided like this again, and so on and so forth. It is essentially, triangles all the way down...\n",
    "\n",
    "<figure style=\"text-align:center;\" id=\"examplefig\">\n",
    "    <img src=\"Figure1_examplefig/examplefig.png\" alt=\"ST\" style=\"width:250px;\" caption=\"test\">\n",
    "    <figcaption>Figure 1: A Sierpiński triangle</figcaption>\n",
    "</figure>\n",
    "\n",
    "There is an iterative way to construct this fractal, called the *chaos game*. It's incredible simple.\n",
    "\n",
    "Start with an equillatiral triangle with length $l$ and vertexes $a,b,c$, as shown below in [Figure 2](#simpletriangle)."
   ]
  },
  {
   "cell_type": "code",
   "execution_count": 53,
   "id": "9a3fc4d3-dc27-4241-b90c-9e00a8c76e83",
   "metadata": {
    "jupyter": {
     "source_hidden": true
    },
    "tags": []
   },
   "outputs": [],
   "source": [
    "import matplotlib.pyplot as plt\n",
    "import numpy as np\n",
    "\n",
    "# the length of the equillateral triangles sides. \n",
    "# I think larger should help computations, by avoiding limits of computer byte size\n",
    "l = 1000;\n",
    "\n",
    "# let's get a triangle going in numpy and matplotlib\n",
    "# the first point is easy, it's just origin.\n",
    "a = np.array([0, 0])\n",
    "# second point is on y=0 and x=l\n",
    "b = np.array([l, 0])\n",
    "# third point requires pythag's theorem.\n",
    "c = np.array([l/2, np.sqrt((l)**2 - (l/2)**2)])\n",
    "# draw the starting triangle\n",
    "x_init = np.array([a[0], b[0], c[0],a[0]])\n",
    "y_init = np.array([a[1], b[1], c[1],a[1]])\n",
    "\n",
    "# figure stuff\n",
    "plt.figure(figsize=(3, 3))\n",
    "# some bull I need to add to get the matplotlib TeX font the same as JN markdown font >:/\n",
    "plt.rcParams['mathtext.fontset'] = 'cm';\n",
    "plt.rcParams['font.family'] = 'cmr10';\n",
    "plt.rcParams['axes.formatter.use_mathtext'] = True  # Enable mathtext\n",
    "# plot the triangle\n",
    "plt.plot(x_init,y_init,'k-')\n",
    "# set the x and y axis limits\n",
    "plt.xlim(-l*0.0, l*1.0)\n",
    "plt.ylim(-l*0.0-0.1*l, l*1.0-0.1*l)\n",
    "plt.xticks([])\n",
    "plt.yticks([])\n",
    "# Get the current axes object\n",
    "ax = plt.gca()\n",
    "# Remove the top and right spines\n",
    "ax.spines['top'].set_visible(False)\n",
    "ax.spines['right'].set_visible(False)\n",
    "ax.spines['bottom'].set_visible(False)\n",
    "ax.spines['left'].set_visible(False)\n",
    "# label the points\n",
    "plt.text(x_init[0],y_init[0],'$a$',ha='right', va='top',fontsize=16);\n",
    "plt.text(x_init[1],y_init[1],'$b$',ha='left', va='top',fontsize=16);\n",
    "plt.text(x_init[2],y_init[2],'$c$',ha='center', va='bottom',fontsize=16);\n",
    "# label the length\n",
    "plt.text(x_init[0]+l/2,-0.02*l,r'$l$',fontname=\"serif\",ha='center', va='top',fontsize=16);\n",
    "plt.text(0.20*l,c[1]/c[0]*0.25*l,r'$l$',fontname=\"serif\",ha='right', va='center',fontsize=16);\n",
    "plt.text(0.80*l,c[1]/c[0]*0.25*l,r'$l$',fontname=\"serif\",ha='left', va='center',fontsize=16);\n",
    "# save the figure\n",
    "plt.savefig('Figure2_simpletriangle/simpletriangle.png', dpi=300, bbox_inches='tight')\n",
    "# Close all open figures\n",
    "plt.close('all')"
   ]
  },
  {
   "cell_type": "markdown",
   "id": "b9d32d28-b4bb-4c54-a4fb-e537217a087f",
   "metadata": {
    "tags": []
   },
   "source": [
    "<figure style=\"text-align:center;\" id=\"simpletriangle\">\n",
    "    <img src=\"Figure2_simpletriangle/simpletriangle.png\" alt=\"simple triangle\" style=\"width:250px;\">\n",
    "    <figcaption>Figure 2: An equillateral triangle with vertices $a,b,c$ and side length $l$.</figcaption>\n",
    "</figure>"
   ]
  },
  {
   "cell_type": "markdown",
   "id": "242bf206-6bf3-4b7a-99b1-123dfe75fe30",
   "metadata": {},
   "source": [
    "Now, **Step 1**: Select a random point inside the triangle ($p_1$). It can be anywhere! As long as the point is within the confines of the triangle's edges. For an example, see [Figure 3](#trianglestep1) below. To understand my algorithm for finding a random point inside the triangle, with uniform probability and no bias, please explore the folded python code! Otherwise, once we've selected our random point, move on to step 2."
   ]
  },
  {
   "cell_type": "code",
   "execution_count": 54,
   "id": "8f07dc39-9a5f-4b23-abcd-f188fc3c520f",
   "metadata": {
    "jupyter": {
     "source_hidden": true
    },
    "tags": []
   },
   "outputs": [],
   "source": [
    "# select a random starting x        \n",
    "rx = np.random.uniform(0,l)\n",
    "# select a random starting y\n",
    "# to calculate the triangle at this x value, we could do some trig. \n",
    "# But I also know the equation for the line from 0 to l/2 and l/2 to l\n",
    "# calculate the slope of a to c.\n",
    "m = c[1]/c[0]\n",
    "if rx<=l/2:\n",
    "    ry = np.random.uniform(0,m*rx)\n",
    "else:\n",
    "    ry = np.random.uniform(0,-m*(rx-l/2)+c[1])\n",
    "    \n",
    "# figure stuff\n",
    "plt.figure(figsize=(3, 3))\n",
    "# some bull I need to add to get the matplotlib TeX font the same as JN markdown font >:/\n",
    "plt.rcParams['mathtext.fontset'] = 'cm';\n",
    "plt.rcParams['font.family'] = 'cmr10';\n",
    "plt.rcParams['axes.formatter.use_mathtext'] = True  # Enable mathtext\n",
    "# plot the triangle\n",
    "plt.plot(x_init,y_init,'k-')\n",
    "# set the x and y axis limits\n",
    "plt.xlim(-l*0.0, l*1.0)\n",
    "plt.ylim(-l*0.0-0.1*l, l*1.0-0.1*l)\n",
    "plt.xticks([])\n",
    "plt.yticks([])\n",
    "# Get the current axes object\n",
    "ax = plt.gca()\n",
    "# Remove the top and right spines\n",
    "ax.spines['top'].set_visible(False)\n",
    "ax.spines['right'].set_visible(False)\n",
    "ax.spines['bottom'].set_visible(False)\n",
    "ax.spines['left'].set_visible(False)\n",
    "# label the points\n",
    "plt.text(x_init[0],y_init[0],'$a$',ha='right', va='top',fontsize=16);\n",
    "plt.text(x_init[1],y_init[1],'$b$',ha='left', va='top',fontsize=16);\n",
    "plt.text(x_init[2],y_init[2],'$c$',ha='center', va='bottom',fontsize=16);\n",
    "# add the random point\n",
    "plt.scatter(rx,ry,color='m',alpha=1.0);\n",
    "# label the random point\n",
    "plt.text(rx+0.03*l,ry,'$p_1$',ha='left', va='bottom',fontsize=12,color='m');\n",
    "# save the figure\n",
    "plt.savefig('Figure3_trianglestep1/trianglestep1.png', dpi=300, bbox_inches='tight')\n",
    "# Close all open figures\n",
    "plt.close('all')    "
   ]
  },
  {
   "cell_type": "markdown",
   "id": "cbdf1c01-6c2c-435d-9fab-7344a2558372",
   "metadata": {},
   "source": [
    "<figure style=\"text-align:center;\" id=\"trianglestep1\">\n",
    "    <img src=\"Figure3_trianglestep1/trianglestep1.png\" alt=\"trianglestep1\" style=\"width:250px;\">\n",
    "    <figcaption>Figure 3: An equillateral triangle in black, with a randomly selected point ($p_1$) in magenta. </figcaption>\n",
    "</figure>"
   ]
  },
  {
   "cell_type": "markdown",
   "id": "8fd0a02f-7468-443e-9602-ef83f8ebfb0d",
   "metadata": {},
   "source": [
    "**Step 2**: Select a random vertex ($a,b,c$) from the triangle."
   ]
  },
  {
   "cell_type": "code",
   "execution_count": 55,
   "id": "ad9c6643-d019-4137-9ecc-a06fcd038d61",
   "metadata": {
    "jupyter": {
     "source_hidden": true
    },
    "tags": []
   },
   "outputs": [],
   "source": [
    "# pick a random vertex\n",
    "vi = np.random.randint(0,2+1)\n",
    "    \n",
    "# figure stuff\n",
    "plt.figure(figsize=(3, 3))\n",
    "# some bull I need to add to get the matplotlib TeX font the same as JN markdown font >:/\n",
    "plt.rcParams['mathtext.fontset'] = 'cm';\n",
    "plt.rcParams['font.family'] = 'cmr10';\n",
    "plt.rcParams['axes.formatter.use_mathtext'] = True  # Enable mathtext\n",
    "# plot the triangle\n",
    "plt.plot(x_init,y_init,'k-')\n",
    "# set the x and y axis limits\n",
    "plt.xlim(-l*0.0, l*1.0)\n",
    "plt.ylim(-l*0.0-0.1*l, l*1.0-0.1*l)\n",
    "plt.xticks([])\n",
    "plt.yticks([])\n",
    "# Get the current axes object\n",
    "ax = plt.gca()\n",
    "# Remove the top and right spines\n",
    "ax.spines['top'].set_visible(False)\n",
    "ax.spines['right'].set_visible(False)\n",
    "ax.spines['bottom'].set_visible(False)\n",
    "ax.spines['left'].set_visible(False)\n",
    "# label the points\n",
    "if vi == 0:\n",
    "    plt.text(x_init[0],y_init[0],'$a$',color='red', ha='right', va='top',fontsize=16)\n",
    "    plt.text(x_init[1],y_init[1],'$b$',ha='left', va='top',fontsize=16)\n",
    "    plt.text(x_init[2],y_init[2],'$c$',ha='center', va='bottom',fontsize=16);\n",
    "elif vi == 1:\n",
    "    plt.text(x_init[0],y_init[0],'$a$',ha='right', va='top',fontsize=16)\n",
    "    plt.text(x_init[1],y_init[1],'$b$',color='red', ha='left', va='top',fontsize=16)\n",
    "    plt.text(x_init[2],y_init[2],'$c$',ha='center', va='bottom',fontsize=16);\n",
    "elif vi == 2:\n",
    "    plt.text(x_init[0],y_init[0],'$a$',ha='right', va='top',fontsize=16)\n",
    "    plt.text(x_init[1],y_init[1],'$b$',ha='left', va='top',fontsize=16)\n",
    "    plt.text(x_init[2],y_init[2],'$c$',color='red',ha='center', va='bottom',fontsize=16);\n",
    "# add the random point\n",
    "plt.scatter(rx,ry,color='m',alpha=1.0);\n",
    "# label the random point\n",
    "plt.text(rx+0.03*l,ry,'$p_1$',ha='left', va='bottom',fontsize=12,color='m');\n",
    "# save the figure\n",
    "plt.savefig('Figure4_trianglestep2/trianglestep2.png', dpi=300, bbox_inches='tight')\n",
    "# Close all open figures\n",
    "plt.close('all') "
   ]
  },
  {
   "cell_type": "markdown",
   "id": "4652ae73-65fe-44a5-8176-0da61968ce43",
   "metadata": {
    "tags": []
   },
   "source": [
    "<figure style=\"text-align:center;\" id=\"trianglestep2\">\n",
    "    <img src=\"Figure4_trianglestep2/trianglestep2.png\" alt=\"trianglestep2\" style=\"width:250px;\">\n",
    "    <figcaption>Figure 4: An equillateral triangle in black, with a randomly selected point ($p_1$) in magenta, and a randomly selected vertex in red. </figcaption>\n",
    "</figure>"
   ]
  },
  {
   "cell_type": "markdown",
   "id": "39c6b8ee-4857-49e2-86df-8d5ad0001d36",
   "metadata": {},
   "source": [
    "**Step 3**: Create a new point $p_2$, half-way between the original point $p_1$ and the seleted vertex."
   ]
  },
  {
   "cell_type": "code",
   "execution_count": 56,
   "id": "4e493a4f-6a36-495d-ae22-b4cda19eee44",
   "metadata": {
    "jupyter": {
     "source_hidden": true
    },
    "tags": []
   },
   "outputs": [],
   "source": [
    "# find the random vertex's location\n",
    "v = np.array([x_init[vi],y_init[vi]])\n",
    "# split the difference between the random point and the vertex\n",
    "newp = np.array([(rx-(rx-v[0])/2) , (ry-(ry-v[1])/2)])\n",
    "    \n",
    "# figure stuff\n",
    "plt.figure(figsize=(3, 3))\n",
    "# some bull I need to add to get the matplotlib TeX font the same as JN markdown font >:/\n",
    "plt.rcParams['mathtext.fontset'] = 'cm';\n",
    "plt.rcParams['font.family'] = 'cmr10';\n",
    "plt.rcParams['axes.formatter.use_mathtext'] = True  # Enable mathtext\n",
    "# plot the triangle\n",
    "plt.plot(x_init,y_init,'k-')\n",
    "# set the x and y axis limits\n",
    "plt.xlim(-l*0.0, l*1.0)\n",
    "plt.ylim(-l*0.0-0.1*l, l*1.0-0.1*l)\n",
    "plt.xticks([])\n",
    "plt.yticks([])\n",
    "# Get the current axes object\n",
    "ax = plt.gca()\n",
    "# Remove the top and right spines\n",
    "ax.spines['top'].set_visible(False)\n",
    "ax.spines['right'].set_visible(False)\n",
    "ax.spines['bottom'].set_visible(False)\n",
    "ax.spines['left'].set_visible(False)\n",
    "# label the points\n",
    "if vi == 0:\n",
    "    plt.text(x_init[0],y_init[0],'$a$',color='red', ha='right', va='top',fontsize=16)\n",
    "    plt.text(x_init[1],y_init[1],'$b$',ha='left', va='top',fontsize=16)\n",
    "    plt.text(x_init[2],y_init[2],'$c$',ha='center', va='bottom',fontsize=16);\n",
    "elif vi == 1:\n",
    "    plt.text(x_init[0],y_init[0],'$a$',ha='right', va='top',fontsize=16)\n",
    "    plt.text(x_init[1],y_init[1],'$b$',color='red', ha='left', va='top',fontsize=16)\n",
    "    plt.text(x_init[2],y_init[2],'$c$',ha='center', va='bottom',fontsize=16);\n",
    "elif vi == 2:\n",
    "    plt.text(x_init[0],y_init[0],'$a$',ha='right', va='top',fontsize=16)\n",
    "    plt.text(x_init[1],y_init[1],'$b$',ha='left', va='top',fontsize=16)\n",
    "    plt.text(x_init[2],y_init[2],'$c$',color='red',ha='center', va='bottom',fontsize=16);\n",
    "# add the random point\n",
    "plt.scatter(rx,ry,color='m',alpha=1.0);\n",
    "# label the random point\n",
    "plt.text(rx+0.03*l,ry,'$p_1$',ha='left', va='bottom',fontsize=12,color='m');\n",
    "# add the new point\n",
    "plt.scatter(newp[0],newp[1],color='c',alpha=1.0);\n",
    "# label the new point\n",
    "plt.text(newp[0]+0.03*l,newp[1],'$p_2$',ha='left', va='bottom',fontsize=12,color='c');\n",
    "# save the figure\n",
    "plt.savefig('Figure5_trianglestep3/trianglestep3.png', dpi=300, bbox_inches='tight')\n",
    "# Close all open figures\n",
    "plt.close('all') "
   ]
  },
  {
   "cell_type": "markdown",
   "id": "3e8cfef7-dffb-4769-9e23-8b64df678ebb",
   "metadata": {},
   "source": [
    "<figure style=\"text-align:center;\" id=\"trianglestep2\">\n",
    "    <img src=\"Figure5_trianglestep3/trianglestep3.png\" alt=\"trianglestep3\" style=\"width:250px;\">\n",
    "    <figcaption>Figure 5: An equillateral triangle in black, with a randomly selected point ($p_1$) in magenta and a randomly selected vertex in red. A new point $p_2$, in cyan, is halfway between $p_1$ and the randomly selected vertex. </figcaption>\n",
    "</figure>"
   ]
  },
  {
   "cell_type": "markdown",
   "id": "35535122-66b9-4f1b-aecb-2b91b535eef2",
   "metadata": {},
   "source": [
    "From here, we simply repeat steps 2 and 3. That is, select a random vertex ($a,b,c$), and move half way to it, drop a point, and repeat. Figure 6 shows this process at several iterations."
   ]
  },
  {
   "cell_type": "code",
   "execution_count": 152,
   "id": "34f0c501-ed40-4705-b360-2423eb9f53a8",
   "metadata": {
    "jupyter": {
     "source_hidden": true
    },
    "tags": []
   },
   "outputs": [],
   "source": [
    "def plotme(ki,k):\n",
    "    #ki is the index in the snapshot array of iters\n",
    "    #k is the iter number\n",
    "    c = ki % 5\n",
    "    if ki<5:\n",
    "        r=0\n",
    "    else:\n",
    "        r=1\n",
    "            \n",
    "    ### plot the triangle ###\n",
    "    axes[r,c].plot(T[:,0],T[:,1],'b-')\n",
    "    # set the x and y axis limits\n",
    "    axes[r,c].autoscale_view()\n",
    "    axes[r,c].set_title('Iterations = ' + str(k+1))\n",
    "    axes[r,c].set_xticks([])\n",
    "    axes[r,c].set_yticks([])\n",
    "\n",
    "    # Remove the top and right spines\n",
    "    axes[r,c].spines['top'].set_visible(False)\n",
    "    axes[r,c].spines['right'].set_visible(False)\n",
    "    axes[r,c].spines['bottom'].set_visible(False)\n",
    "    axes[r,c].spines['left'].set_visible(False)\n",
    "    axes[r,c].set_aspect('equal')\n",
    "\n",
    "    # plot the points\n",
    "    axes[r,c].scatter(A[:,0],A[:,1],marker='.',s=50,color='black');  \n",
    "    axes[r,c].scatter(A[k,0],A[k,1],marker='.',s=180,color='cyan'); \n",
    "    axes[r,c].scatter(A[k-1,0],A[k-1,1],marker='.',s=200,color='magenta');\n",
    "    \n",
    "    # shade the vertex\n",
    "    #if k>0:\n",
    "        #axes[r,c].scatter(v[0],v[1],marker='.',s=150,color='red',alpha=0.5);  \n",
    "    "
   ]
  },
  {
   "cell_type": "code",
   "execution_count": 154,
   "id": "c66c3a45-5249-47ec-beab-69c97853431d",
   "metadata": {
    "jupyter": {
     "source_hidden": true
    },
    "tags": []
   },
   "outputs": [],
   "source": [
    "# Going to stop the loop and make a plot at certain points. Going for a 2x5 fig here.\n",
    "# snapshot @\n",
    "ss = [0,1,2,3,4,99,199,299,399,499]\n",
    "\n",
    "max_iters = 501; # basically, dots to draw\n",
    "l = 1000;      # length of triangle edge\n",
    "\n",
    "# create the triangle\n",
    "a = np.array([0, 0])\n",
    "b = np.array([l, 0])\n",
    "c = np.array([l/2, np.sqrt((l)**2 - (l/2)**2)])\n",
    "T = np.array([a,b,c,a])\n",
    "\n",
    "# select a random point in the triangle\n",
    "go = 0\n",
    "while ~go:\n",
    "    rx = np.random.uniform(0,l)\n",
    "    ry = np.random.uniform(0,c[1])\n",
    "\n",
    "    if rx<=l/2:\n",
    "        go = (ry<m*rx)\n",
    "    else:\n",
    "        go = (ry<-m*(rx-l/2)+c[1])\n",
    "\n",
    "# initialize and update the output\n",
    "A = np.full([max_iters,2], np.nan)\n",
    "A[0,:] = [rx,ry]        \n",
    "\n",
    "# Create a figure and an array of subplots\n",
    "fig, axes = plt.subplots(nrows=2, ncols=5, figsize=(12, 6))\n",
    "plotme(0,0)\n",
    "        \n",
    "\n",
    "# loop through \n",
    "for k in range(1,max_iters):\n",
    "    # pick a random vertex\n",
    "    vi = np.random.randint(0,2+1)\n",
    "    # find its location\n",
    "    v = T[vi,:]\n",
    "    # split the difference between the random point and the vertex\n",
    "    newp = np.array([(rx-(rx-v[0])/2) , (ry-(ry-v[1])/2)])\n",
    "    # update the rx and ry\n",
    "    rx = newp[0]\n",
    "    ry = newp[1]\n",
    "    # save to array\n",
    "    A[k,:] = newp\n",
    "    if k in ss:\n",
    "        plotme(ss.index(k),k)\n",
    "    \n",
    "# Adjust the spacing between subplots\n",
    "plt.tight_layout()\n",
    "\n",
    "# save the figure\n",
    "plt.savefig('Figure6_multiiters/multiiters.png', dpi=300, bbox_inches='tight')\n",
    "# Close all open figures\n",
    "plt.close('all') \n"
   ]
  },
  {
   "cell_type": "markdown",
   "id": "2e97415e-6d1a-4e9f-8394-72aa19f1e13e",
   "metadata": {
    "tags": []
   },
   "source": [
    "<figure style=\"text-align:center;\" id=\"trianglestep2\">\n",
    "    <img src=\"Figure6_multiiters/multiiters.png\" alt=\"multiiters\">\n",
    "    <figcaption>Figure 5: Examples of the chaos game at ever increasing iterations. For each iteration, the starting point is shown in magenta, and the newly created point is shown in cyan. Can you figure out which vertex was randomly selected (aka Step 2) for each image shown?</figcaption>\n",
    "</figure>"
   ]
  },
  {
   "cell_type": "markdown",
   "id": "1d05d7e7-0547-49a9-9b2c-03d87fee4b72",
   "metadata": {},
   "source": [
    "It's clear after a few hunderd iterations that an image resembling the Sierpiński triangle is forming! Neat!\n",
    "\n",
    "Well, that's all I have for now! Hope this serves as a future guide to quickly building the Sierpiński triangle in Python and making cool visuals or just geeking out over fractals. I'll leave the reader with a self-contained python function that, given a desired number of iterations, creates a data structure containing the Sierpiński triangle and an image."
   ]
  },
  {
   "cell_type": "code",
   "execution_count": 5,
   "id": "22f70481-b84f-4674-a7a0-8a344ffc90de",
   "metadata": {
    "tags": []
   },
   "outputs": [],
   "source": [
    "%reset -f"
   ]
  },
  {
   "cell_type": "code",
   "execution_count": 8,
   "id": "1f80fff0-b1ec-4677-8294-07f103ad5fb4",
   "metadata": {
    "tags": []
   },
   "outputs": [],
   "source": [
    "def sierp_tri(max_iters,imagegen_boolean):\n",
    "    # This function creates a data array storing the points for a sierpinski triangle, generated using the chaos game\n",
    "    # max_iters is the number of iterations to run the game for (>250 for a real image\n",
    "    # imagegen_boolean is an option to generate a figure or not.\n",
    "\n",
    "    l = 1;      # length of triangle edge\n",
    "\n",
    "    # create the triangle\n",
    "    a = np.array([0, 0])\n",
    "    b = np.array([l, 0])\n",
    "    c = np.array([l/2, np.sqrt((l)**2 - (l/2)**2)])\n",
    "    T = np.array([a,b,c,a])\n",
    "\n",
    "    # select a random point in the triangle\n",
    "    go = 1\n",
    "    m = c[1]/c[0]\n",
    "    while ~go:\n",
    "        rx = np.random.uniform(0,l)\n",
    "        ry = np.random.uniform(0,c[1])\n",
    "\n",
    "        if rx<=l/2:\n",
    "            go = (ry<m*rx)\n",
    "        else:\n",
    "            go = (ry<-m*(rx-l/2)+c[1])\n",
    "    #print('starting point is at ' + str(np.round(rx)) +', '+ str(np.round(ry)))\n",
    "\n",
    "    # initialize and update the output\n",
    "    A = np.zeros([max_iters,2])\n",
    "    A[0,:] = [rx,ry]\n",
    "\n",
    "    # loop through \n",
    "    for k in range(1,max_iters):\n",
    "        # pick a random vertex\n",
    "        vi = np.random.randint(0,2+1)\n",
    "        # find its location\n",
    "        v = T[vi,:]\n",
    "        # split the difference between the random point and the vertex\n",
    "        newp = np.array([(rx-(rx-v[0])/2) , (ry-(ry-v[1])/2)])\n",
    "        # update the rx and ry\n",
    "        rx = newp[0]\n",
    "        ry = newp[1]\n",
    "        # save to array\n",
    "        A[k,:] = newp\n",
    "\n",
    "    if imagegen_boolean:\n",
    "        ### plot the triangle ###\n",
    "        plt.figure(figsize=(6, 6))\n",
    "        plt.plot(T[:,0],T[:,1],'b-')\n",
    "        # set the x and y axis limits\n",
    "        plt.xlim(-l*0.0, l*1.0)\n",
    "        plt.ylim(-l*0.0-0.1*l, l*1.0-0.1*l)\n",
    "        #plt.title('Iterations = ' + str(max_iters))\n",
    "        plt.xticks([])\n",
    "        plt.yticks([])\n",
    "        # Get the current axes object\n",
    "        ax = plt.gca()\n",
    "        # Remove the top and right spines\n",
    "        ax.spines['top'].set_visible(False)\n",
    "        ax.spines['right'].set_visible(False)\n",
    "        ax.spines['bottom'].set_visible(False)\n",
    "        ax.spines['left'].set_visible(False)\n",
    "\n",
    "        plt.scatter(A[:,0],A[:,1],marker='.',s=1,color='black')\n",
    "\n",
    "    return A"
   ]
  }
 ],
 "metadata": {
  "kernelspec": {
   "display_name": "Python 3 (ipykernel)",
   "language": "python",
   "name": "python3"
  },
  "language_info": {
   "codemirror_mode": {
    "name": "ipython",
    "version": 3
   },
   "file_extension": ".py",
   "mimetype": "text/x-python",
   "name": "python",
   "nbconvert_exporter": "python",
   "pygments_lexer": "ipython3",
   "version": "3.11.3"
  }
 },
 "nbformat": 4,
 "nbformat_minor": 5
}
