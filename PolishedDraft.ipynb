{
 "cells": [
  {
   "cell_type": "markdown",
   "id": "c168ee49-1907-4fa5-964d-bffdbd9aa88e",
   "metadata": {
    "tags": []
   },
   "source": [
    "# Constructing a Sierpiński triangle with the Chaos game\n",
    "\n",
    "In this demonstration, I will outline an interesting way to iteratively construct a Sierpiński triangle. I actually stumbled upon this method of construction on TikTok, but decided to look into it and try it for myself, using numpy and matplotlib. First, let's introduce the concepts.\n",
    "\n",
    "A Sierpiński triangle is a classic fractal, named after the Polish mathematician Wacław Sierpiński who described it in 1915, but which had actually appeared many centuries earlier, likely in Italy.\n",
    "\n",
    "Visually, it is a triangle subdivided into four tesselated triangles. The top, right, and left triangles are subdivided like this again, and so on and so forth. It is essentially, triangles all the way down.\n",
    "\n",
    "<div style=\"text-align:center;\">\n",
    "<img src=\"sierpinski_triangle_100000iters.png\" alt=\"ST\" style=\"width:400px;\">\n",
    "</div>"
   ]
  }
 ],
 "metadata": {
  "kernelspec": {
   "display_name": "Python 3 (ipykernel)",
   "language": "python",
   "name": "python3"
  },
  "language_info": {
   "codemirror_mode": {
    "name": "ipython",
    "version": 3
   },
   "file_extension": ".py",
   "mimetype": "text/x-python",
   "name": "python",
   "nbconvert_exporter": "python",
   "pygments_lexer": "ipython3",
   "version": "3.11.3"
  }
 },
 "nbformat": 4,
 "nbformat_minor": 5
}
