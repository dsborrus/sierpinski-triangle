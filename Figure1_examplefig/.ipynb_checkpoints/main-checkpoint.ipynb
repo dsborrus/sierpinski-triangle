{
 "cells": [
  {
   "cell_type": "code",
   "execution_count": 4,
   "id": "5539c1d3-bbb2-48df-b0a7-79b483813dd7",
   "metadata": {
    "tags": []
   },
   "outputs": [
    {
     "ename": "NameError",
     "evalue": "name 'm' is not defined",
     "output_type": "error",
     "traceback": [
      "\u001b[0;31m---------------------------------------------------------------------------\u001b[0m",
      "\u001b[0;31mNameError\u001b[0m                                 Traceback (most recent call last)",
      "Cell \u001b[0;32mIn[4], line 20\u001b[0m\n\u001b[1;32m     17\u001b[0m ry \u001b[38;5;241m=\u001b[39m np\u001b[38;5;241m.\u001b[39mrandom\u001b[38;5;241m.\u001b[39muniform(\u001b[38;5;241m0\u001b[39m,c[\u001b[38;5;241m1\u001b[39m])\n\u001b[1;32m     19\u001b[0m \u001b[38;5;28;01mif\u001b[39;00m rx\u001b[38;5;241m<\u001b[39m\u001b[38;5;241m=\u001b[39ml\u001b[38;5;241m/\u001b[39m\u001b[38;5;241m2\u001b[39m:\n\u001b[0;32m---> 20\u001b[0m     go \u001b[38;5;241m=\u001b[39m (ry\u001b[38;5;241m<\u001b[39m\u001b[43mm\u001b[49m\u001b[38;5;241m*\u001b[39mrx)\n\u001b[1;32m     21\u001b[0m \u001b[38;5;28;01melse\u001b[39;00m:\n\u001b[1;32m     22\u001b[0m     go \u001b[38;5;241m=\u001b[39m (ry\u001b[38;5;241m<\u001b[39m\u001b[38;5;241m-\u001b[39mm\u001b[38;5;241m*\u001b[39m(rx\u001b[38;5;241m-\u001b[39ml\u001b[38;5;241m/\u001b[39m\u001b[38;5;241m2\u001b[39m)\u001b[38;5;241m+\u001b[39mc[\u001b[38;5;241m1\u001b[39m])\n",
      "\u001b[0;31mNameError\u001b[0m: name 'm' is not defined"
     ]
    }
   ],
   "source": [
    "import numpy as np\n",
    "import matplotlib.pyplot as plt\n",
    "\n",
    "max_iters = 100000; # basically, dots to draw\n",
    "l = 1000;      # length of triangle edge\n",
    "\n",
    "# create the triangle\n",
    "a = np.array([0, 0])\n",
    "b = np.array([l, 0])\n",
    "c = np.array([l/2, np.sqrt((l)**2 - (l/2)**2)])\n",
    "T = np.array([a,b,c,a])\n",
    "\n",
    "# select a random point in the triangle\n",
    "go = 1\n",
    "m = c[1]/c[0]\n",
    "while ~go:\n",
    "    rx = np.random.uniform(0,l)\n",
    "    ry = np.random.uniform(0,c[1])\n",
    "\n",
    "    if rx<=l/2:\n",
    "        go = (ry<m*rx)\n",
    "    else:\n",
    "        go = (ry<-m*(rx-l/2)+c[1])\n",
    "#print('starting point is at ' + str(np.round(rx)) +', '+ str(np.round(ry)))\n",
    "\n",
    "# initialize and update the output\n",
    "A = np.zeros([max_iters,2])\n",
    "A[0,:] = [rx,ry]\n",
    "\n",
    "# loop through \n",
    "for k in range(1,max_iters):\n",
    "    # pick a random vertex\n",
    "    vi = np.random.randint(0,2+1)\n",
    "    # find its location\n",
    "    v = T[vi,:]\n",
    "    # split the difference between the random point and the vertex\n",
    "    newp = np.array([(rx-(rx-v[0])/2) , (ry-(ry-v[1])/2)])\n",
    "    # update the rx and ry\n",
    "    rx = newp[0]\n",
    "    ry = newp[1]\n",
    "    # save to array\n",
    "    A[k,:] = newp\n",
    "    \n",
    "### plot the triangle ###\n",
    "plt.figure(figsize=(6, 6))\n",
    "plt.plot(T[:,0],T[:,1],'b-')\n",
    "# set the x and y axis limits\n",
    "plt.xlim(-l*0.2, l*1.2)\n",
    "plt.ylim(-l*0.2-0.1*l, l*1.2-0.1*l)\n",
    "plt.title('Iterations = ' + str(max_iters))\n",
    "plt.xticks([])\n",
    "plt.yticks([])\n",
    "# label the points\n",
    "pnts = ['a','b','c']\n",
    "#for i in range(0,3):\n",
    "#     plt.text(x_init[i],y_init[i],pnts[i],ha='center', va='bottom',fontsize=16)\n",
    "        \n",
    "plt.scatter(A[:,0],A[:,1],marker='.',s=1,color='black');  \n",
    "\n",
    "# Save the plot as a PNG image\n",
    "plt.savefig('examplefig.png', dpi=300, bbox_inches='tight')"
   ]
  }
 ],
 "metadata": {
  "kernelspec": {
   "display_name": "Python 3 (ipykernel)",
   "language": "python",
   "name": "python3"
  },
  "language_info": {
   "codemirror_mode": {
    "name": "ipython",
    "version": 3
   },
   "file_extension": ".py",
   "mimetype": "text/x-python",
   "name": "python",
   "nbconvert_exporter": "python",
   "pygments_lexer": "ipython3",
   "version": "3.11.3"
  }
 },
 "nbformat": 4,
 "nbformat_minor": 5
}
