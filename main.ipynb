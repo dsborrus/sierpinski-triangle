{
 "cells": [
  {
   "cell_type": "markdown",
   "id": "d8bb4ccb-ea62-4d99-bf75-24a9e21ee9f6",
   "metadata": {},
   "source": [
    "# Creating a sierpinski triangle\n",
    "\n",
    "A sierpinski triangle is\n",
    "\n",
    "Saw something on tiktok on a cheaky way to construct a sierpinski triangle. It might be computationally efficient. But it's very simple to understand.\n",
    "\n",
    "Imagine an equillateral triangle with side length l and points a,b,c"
   ]
  },
  {
   "cell_type": "code",
   "execution_count": 2,
   "id": "52d0da8a-15cd-4100-80f8-27bf5198cee1",
   "metadata": {
    "tags": []
   },
   "outputs": [],
   "source": [
    "import matplotlib.pyplot as plt\n",
    "import numpy as np\n",
    "\n",
    "# the length of the equillateral triangles sides. \n",
    "# I think larger should help computations, by avoiding limits of computer byte size\n",
    "l = 100;\n",
    "\n",
    "# let's get a triangle going in numpy and matplotlib\n",
    "# the first point is easy, it's just origin.\n",
    "a = np.array([0, 0])\n",
    "# second point is on y=0 and x=l\n",
    "b = np.array([l, 0])\n",
    "# third point requires pythag's theorem.\n",
    "c = np.array([l/2, sqrt((l/2)^2 "
   ]
  },
  {
   "cell_type": "code",
   "execution_count": null,
   "id": "05ae0dee-02d9-4f02-bd0c-048111b04dc3",
   "metadata": {},
   "outputs": [],
   "source": []
  }
 ],
 "metadata": {
  "kernelspec": {
   "display_name": "Python 3 (ipykernel)",
   "language": "python",
   "name": "python3"
  },
  "language_info": {
   "codemirror_mode": {
    "name": "ipython",
    "version": 3
   },
   "file_extension": ".py",
   "mimetype": "text/x-python",
   "name": "python",
   "nbconvert_exporter": "python",
   "pygments_lexer": "ipython3",
   "version": "3.11.3"
  }
 },
 "nbformat": 4,
 "nbformat_minor": 5
}
