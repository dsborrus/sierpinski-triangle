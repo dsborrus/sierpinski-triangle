{
 "cells": [
  {
   "cell_type": "markdown",
   "id": "c168ee49-1907-4fa5-964d-bffdbd9aa88e",
   "metadata": {
    "tags": []
   },
   "source": [
    "<h1 style=\"text-align:center\">Constructing a Sierpiński Triangle With the Chaos Game</h1>\n",
    "\n",
    "<h4 style=\"text-align:center\"> by Daniel Borrus, Ph.D. </h4>\n",
    "\n",
    "<br>\n",
    "\n",
    "In this demonstration, I will outline an interesting way to iteratively construct a Sierpiński triangle. I actually stumbled upon this method of construction on TikTok, but decided to look into it and try it for myself, using numpy and matplotlib. First, let's introduce the concepts.\n",
    "\n",
    "A Sierpiński triangle is a classic fractal, named after the Polish mathematician Wacław Sierpiński who described it in 1915, but which had actually appeared many centuries earlier, likely in Italy.\n",
    "\n",
    "Visually, it is a triangle subdivided into four tesselated triangles ([Figure 1](#examplefig)). The top, right, and left triangles are subdivided like this again, and so on and so forth. It is essentially, triangles all the way down...\n",
    "\n",
    "<figure style=\"text-align:center;\" id=\"examplefig\">\n",
    "    <img src=\"Figure1_examplefig/examplefig.png\" alt=\"ST\" style=\"width:250px;\" caption=\"test\">\n",
    "    <figcaption>Figure 1: A Sierpiński triangle</figcaption>\n",
    "</figure>\n",
    "\n",
    "There is an iterative way to construct this fractal, called the *chaos game*. It's incredible simple.\n",
    "\n",
    "Start with an equillatiral triangle with length $l$ and vertexes $a,b,c$, as shown below in [Figure 2](#simpletriangle)."
   ]
  },
  {
   "cell_type": "code",
   "execution_count": 127,
   "id": "9a3fc4d3-dc27-4241-b90c-9e00a8c76e83",
   "metadata": {
    "tags": []
   },
   "outputs": [],
   "source": [
    "import matplotlib.pyplot as plt\n",
    "import numpy as np\n",
    "\n",
    "# the length of the equillateral triangles sides. \n",
    "# I think larger should help computations, by avoiding limits of computer byte size\n",
    "l = 1000;\n",
    "\n",
    "# let's get a triangle going in numpy and matplotlib\n",
    "# the first point is easy, it's just origin.\n",
    "a = np.array([0, 0])\n",
    "# second point is on y=0 and x=l\n",
    "b = np.array([l, 0])\n",
    "# third point requires pythag's theorem.\n",
    "c = np.array([l/2, np.sqrt((l)**2 - (l/2)**2)])\n",
    "# draw the starting triangle\n",
    "x_init = np.array([a[0], b[0], c[0],a[0]])\n",
    "y_init = np.array([a[1], b[1], c[1],a[1]])\n",
    "\n",
    "# figure stuff\n",
    "plt.figure(figsize=(3, 3))\n",
    "# some bull I need to add to get the matplotlib TeX font the same as JN markdown font >:/\n",
    "plt.rcParams['mathtext.fontset'] = 'cm';\n",
    "plt.rcParams['font.family'] = 'cmr10';\n",
    "plt.rcParams['axes.formatter.use_mathtext'] = True  # Enable mathtext\n",
    "# plot the triangle\n",
    "plt.plot(x_init,y_init,'k-')\n",
    "# set the x and y axis limits\n",
    "plt.xlim(-l*0.0, l*1.0)\n",
    "plt.ylim(-l*0.0-0.1*l, l*1.0-0.1*l)\n",
    "plt.xticks([])\n",
    "plt.yticks([])\n",
    "# Get the current axes object\n",
    "ax = plt.gca()\n",
    "# Remove the top and right spines\n",
    "ax.spines['top'].set_visible(False)\n",
    "ax.spines['right'].set_visible(False)\n",
    "ax.spines['bottom'].set_visible(False)\n",
    "ax.spines['left'].set_visible(False)\n",
    "# label the points\n",
    "plt.text(x_init[0],y_init[0],'$a$',ha='right', va='top',fontsize=16);\n",
    "plt.text(x_init[1],y_init[1],'$b$',ha='left', va='top',fontsize=16);\n",
    "plt.text(x_init[2],y_init[2],'$c$',ha='center', va='bottom',fontsize=16);\n",
    "# label the length\n",
    "plt.text(x_init[0]+l/2,-0.02*l,r'$l$',fontname=\"serif\",ha='center', va='top',fontsize=16);\n",
    "plt.text(0.20*l,c[1]/c[0]*0.25*l,r'$l$',fontname=\"serif\",ha='right', va='center',fontsize=16);\n",
    "plt.text(0.80*l,c[1]/c[0]*0.25*l,r'$l$',fontname=\"serif\",ha='left', va='center',fontsize=16);\n",
    "# save the figure\n",
    "plt.savefig('Figure2_simpletriangle/simpletriangle.png', dpi=300, bbox_inches='tight')\n",
    "# Close all open figures\n",
    "plt.close('all')"
   ]
  },
  {
   "cell_type": "markdown",
   "id": "b9d32d28-b4bb-4c54-a4fb-e537217a087f",
   "metadata": {
    "tags": []
   },
   "source": [
    "<figure style=\"text-align:center;\" id=\"simpletriangle\">\n",
    "    <img src=\"Figure2_simpletriangle/simpletriangle.png\" alt=\"simple triangle\" style=\"width:250px;\">\n",
    "    <figcaption>Figure 2: An equillateral triangle with vertices $a,b,c$ and side length $l$.</figcaption>\n",
    "</figure>"
   ]
  },
  {
   "cell_type": "markdown",
   "id": "242bf206-6bf3-4b7a-99b1-123dfe75fe30",
   "metadata": {},
   "source": [
    "Now, **Step 1**, select a random point inside the triangle. It can be anywhere! As long as the point is within the confines of the triangle's edges. For an example, see [Figure 3](#trianglestep1) below. To understand my algorithm for finding a random point inside the triangle, with uniform probability and no bias, please explore the folded python code!"
   ]
  },
  {
   "cell_type": "code",
   "execution_count": 128,
   "id": "8f07dc39-9a5f-4b23-abcd-f188fc3c520f",
   "metadata": {
    "jupyter": {
     "source_hidden": true
    },
    "tags": []
   },
   "outputs": [],
   "source": [
    "# select a random starting x        \n",
    "rx = np.random.uniform(0,l)\n",
    "# select a random starting y\n",
    "# to calculate the triangle at this x value, we could do some trig. \n",
    "# But I also know the equation for the line from 0 to l/2 and l/2 to l\n",
    "# calculate the slope of a to c.\n",
    "m = c[1]/c[0]\n",
    "if rx<=l/2:\n",
    "    ry = np.random.uniform(0,m*rx)\n",
    "else:\n",
    "    ry = np.random.uniform(0,-m*(rx-l/2)+c[1])\n",
    "    \n",
    "# figure stuff\n",
    "plt.figure(figsize=(3, 3))\n",
    "# some bull I need to add to get the matplotlib TeX font the same as JN markdown font >:/\n",
    "plt.rcParams['mathtext.fontset'] = 'cm';\n",
    "plt.rcParams['font.family'] = 'cmr10';\n",
    "plt.rcParams['axes.formatter.use_mathtext'] = True  # Enable mathtext\n",
    "# plot the triangle\n",
    "plt.plot(x_init,y_init,'k-')\n",
    "# set the x and y axis limits\n",
    "plt.xlim(-l*0.0, l*1.0)\n",
    "plt.ylim(-l*0.0-0.1*l, l*1.0-0.1*l)\n",
    "plt.xticks([])\n",
    "plt.yticks([])\n",
    "# Get the current axes object\n",
    "ax = plt.gca()\n",
    "# Remove the top and right spines\n",
    "ax.spines['top'].set_visible(False)\n",
    "ax.spines['right'].set_visible(False)\n",
    "ax.spines['bottom'].set_visible(False)\n",
    "ax.spines['left'].set_visible(False)\n",
    "# label the points\n",
    "plt.text(x_init[0],y_init[0],'$a$',ha='right', va='top',fontsize=16);\n",
    "plt.text(x_init[1],y_init[1],'$b$',ha='left', va='top',fontsize=16);\n",
    "plt.text(x_init[2],y_init[2],'$c$',ha='center', va='bottom',fontsize=16);\n",
    "# add the random point\n",
    "plt.scatter(rx,ry,color='m',alpha=1.0);\n",
    "# save the figure\n",
    "plt.savefig('Figure3_trianglestep1/trianglestep1.png', dpi=300, bbox_inches='tight')\n",
    "# Close all open figures\n",
    "plt.close('all')    "
   ]
  },
  {
   "cell_type": "markdown",
   "id": "cbdf1c01-6c2c-435d-9fab-7344a2558372",
   "metadata": {},
   "source": [
    "<figure style=\"text-align:center;\" id=\"trianglestep1\">\n",
    "    <img src=\"Figure3_trianglestep1/trianglestep1.png\" alt=\"trianglestep1\" style=\"width:250px;\">\n",
    "    <figcaption>Figure 3: An equillateral triangle in black, with a randomly selected point in magenta. </figcaption>\n",
    "</figure>"
   ]
  },
  {
   "cell_type": "markdown",
   "id": "8fd0a02f-7468-443e-9602-ef83f8ebfb0d",
   "metadata": {},
   "source": [
    "**Step 2**: select a random vertex ($a,b,c$) from the triangle."
   ]
  },
  {
   "cell_type": "code",
   "execution_count": 129,
   "id": "ad9c6643-d019-4137-9ecc-a06fcd038d61",
   "metadata": {
    "jupyter": {
     "source_hidden": true
    },
    "tags": []
   },
   "outputs": [],
   "source": [
    "# pick a random vertex\n",
    "vi = np.random.randint(0,2+1)\n",
    "    \n",
    "# figure stuff\n",
    "plt.figure(figsize=(3, 3))\n",
    "# some bull I need to add to get the matplotlib TeX font the same as JN markdown font >:/\n",
    "plt.rcParams['mathtext.fontset'] = 'cm';\n",
    "plt.rcParams['font.family'] = 'cmr10';\n",
    "plt.rcParams['axes.formatter.use_mathtext'] = True  # Enable mathtext\n",
    "# plot the triangle\n",
    "plt.plot(x_init,y_init,'k-')\n",
    "# set the x and y axis limits\n",
    "plt.xlim(-l*0.0, l*1.0)\n",
    "plt.ylim(-l*0.0-0.1*l, l*1.0-0.1*l)\n",
    "plt.xticks([])\n",
    "plt.yticks([])\n",
    "# Get the current axes object\n",
    "ax = plt.gca()\n",
    "# Remove the top and right spines\n",
    "ax.spines['top'].set_visible(False)\n",
    "ax.spines['right'].set_visible(False)\n",
    "ax.spines['bottom'].set_visible(False)\n",
    "ax.spines['left'].set_visible(False)\n",
    "# label the points\n",
    "if vi == 0:\n",
    "    plt.text(x_init[0],y_init[0],'$a$',color='red', ha='right', va='top',fontsize=16)\n",
    "    plt.text(x_init[1],y_init[1],'$b$',ha='left', va='top',fontsize=16)\n",
    "    plt.text(x_init[2],y_init[2],'$c$',ha='center', va='bottom',fontsize=16);\n",
    "elif vi == 1:\n",
    "    plt.text(x_init[0],y_init[0],'$a$',ha='right', va='top',fontsize=16)\n",
    "    plt.text(x_init[1],y_init[1],'$b$',color='red', ha='left', va='top',fontsize=16)\n",
    "    plt.text(x_init[2],y_init[2],'$c$',ha='center', va='bottom',fontsize=16);\n",
    "elif vi == 2:\n",
    "    plt.text(x_init[0],y_init[0],'$a$',ha='right', va='top',fontsize=16)\n",
    "    plt.text(x_init[1],y_init[1],'$b$',ha='left', va='top',fontsize=16)\n",
    "    plt.text(x_init[2],y_init[2],'$c$',color='red',ha='center', va='bottom',fontsize=16);\n",
    "# add the random point\n",
    "plt.scatter(rx,ry,color='m',alpha=1.0);\n",
    "# save the figure\n",
    "plt.savefig('Figure4_trianglestep2/trianglestep2.png', dpi=300, bbox_inches='tight')\n",
    "# Close all open figures\n",
    "plt.close('all') "
   ]
  },
  {
   "cell_type": "markdown",
   "id": "4652ae73-65fe-44a5-8176-0da61968ce43",
   "metadata": {
    "tags": []
   },
   "source": [
    "<figure style=\"text-align:center;\" id=\"trianglestep2\">\n",
    "    <img src=\"Figure4_trianglestep2/trianglestep2.png\" alt=\"trianglestep2\" style=\"width:250px;\">\n",
    "    <figcaption>Figure 4: An equillateral triangle in black, with a randomly selected point in magenta, and a randomly selected vertex in red. </figcaption>\n",
    "</figure>"
   ]
  },
  {
   "cell_type": "code",
   "execution_count": null,
   "id": "d4d49497-0fe4-4abd-8cab-bb051c438d6e",
   "metadata": {},
   "outputs": [],
   "source": []
  }
 ],
 "metadata": {
  "kernelspec": {
   "display_name": "Python 3 (ipykernel)",
   "language": "python",
   "name": "python3"
  },
  "language_info": {
   "codemirror_mode": {
    "name": "ipython",
    "version": 3
   },
   "file_extension": ".py",
   "mimetype": "text/x-python",
   "name": "python",
   "nbconvert_exporter": "python",
   "pygments_lexer": "ipython3",
   "version": "3.11.3"
  }
 },
 "nbformat": 4,
 "nbformat_minor": 5
}
